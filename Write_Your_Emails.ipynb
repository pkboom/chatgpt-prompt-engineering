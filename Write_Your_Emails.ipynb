{
 "cells": [
  {
   "cell_type": "code",
   "execution_count": 13,
   "id": "5ddaa8ee",
   "metadata": {},
   "outputs": [
    {
     "name": "stdout",
     "output_type": "stream",
     "text": [
      "The dotenv extension is already loaded. To reload it, use:\n",
      "  %reload_ext dotenv\n"
     ]
    }
   ],
   "source": [
    "%load_ext dotenv\n",
    "%dotenv .env"
   ]
  },
  {
   "cell_type": "code",
   "execution_count": 14,
   "id": "0f3059ae",
   "metadata": {},
   "outputs": [],
   "source": [
    "import openai\n",
    "import os\n",
    "\n",
    "openai.api_key  = os.environ.get('OPENAI_API_KEY')"
   ]
  },
  {
   "cell_type": "code",
   "execution_count": 15,
   "id": "1719407d",
   "metadata": {},
   "outputs": [],
   "source": [
    "def get_completion(prompt, model=\"gpt-3.5-turbo\"):\n",
    "    messages = [{\"role\": \"user\", \"content\": prompt}]\n",
    "    response = openai.ChatCompletion.create(\n",
    "        model=model,\n",
    "        messages=messages,\n",
    "        temperature=0, # this is the degree of randomness of the model's output\n",
    "    )\n",
    "    return response.choices[0][\"message\"][\"content\"]\n",
    "\n",
    "def get_completion_from_messages(messages, model=\"gpt-3.5-turbo\", temperature=0):\n",
    "    response = openai.ChatCompletion.create(\n",
    "        model=model,\n",
    "        messages=messages,\n",
    "        temperature=temperature, # this is the degree of randomness of the model's output\n",
    "    )\n",
    "#     print(str(response.choices[0].message))\n",
    "    return response.choices[0][\"message\"][\"content\"]"
   ]
  },
  {
   "cell_type": "code",
   "execution_count": 16,
   "id": "9daa4ffc",
   "metadata": {},
   "outputs": [],
   "source": [
    "\n",
    "# write an email reply for a customer who is asking for a refund for 'Nike Air Max 90'\n",
    "reply1 = \"\"\"\n",
    "Dear Customer,\n",
    "\n",
    "Thank you for your email, we are sorry to hear that you are not satisfied with your purchase of Nike Air Max 90.\n",
    "We are happy to accept your refund request. Please follow the instructions below to return your item:\n",
    "\n",
    "1. Repackage the item in the original packaging or secure packaging.\n",
    "2. Include the original delivery note or a copy of your email invoice.\n",
    "3. Attach the returns address label to the package and make sure no other address is visible.\n",
    "4. Return the package by using the Post Office counters and obtain proof of postage from the Post Office. \n",
    "Please do not post the package through the post box without obtaining a certificate of posting.\n",
    "\n",
    "Once we receive your return, we will process your refund within 5 business days.\n",
    "\n",
    "We apologise for any inconvenience caused.\n",
    "\n",
    "Kind Regards,\n",
    "Customer Service Team\n",
    "\"\"\"\n",
    "\n",
    "# write an email reply for a customer who is asking for a discount for a 'Herman Miller Aeron Chair'\n",
    "# reply should be about giving 10% discount on the chair\n",
    "reply2 = \"\"\"\n",
    "Dear Customer,\n",
    "Thank you for your email. We are glad that you are interested in our product.\n",
    "We are happy to give you a 10% discount on the Herman Miller Aeron Chair.\n",
    "Please use the following coupon code to avail the discount: HM10OFF\n",
    "We look forward to your business.\n",
    "Best Regards,\n",
    "Customer Service\n",
    "\"\"\"\n",
    "\n",
    "# write an email reply for a customer who is asking for a feature for 'Apple iPhone 12'\n",
    "reply3 = \"\"\"\n",
    "Dear Customer,\n",
    "Thank you for your email. We are glad that you are interested in our product.\n",
    "We are happy to inform you that the Apple iPhone 12 has the following features:\n",
    "1. 6.1-inch Super Retina XDR display\n",
    "2. Ceramic Shield, tougher than any smartphone glass\n",
    "3. 5G for superfast downloads and high-quality streaming\n",
    "4. A14 Bionic chip, the fastest chip ever in a smartphone\n",
    "5. Advanced dual-camera system with 12MP Ultra Wide and Wide cameras; Night mode, Deep Fusion, Smart HDR 3, 4K Dolby Vision HDR recording\n",
    "6. 12MP TrueDepth front camera with Night mode, 4K Dolby Vision HDR recording\n",
    "7. Industry-leading IP68 water resistance\n",
    "8. Supports MagSafe accessories for easy attach and faster wireless charging\n",
    "9. iOS with redesigned widgets on the Home screen, all-new App Library, App Clips and more\n",
    "We look forward to your business.\n",
    "Best Regards,\n",
    "Customer Service\n",
    "\"\"\"\n",
    "\n",
    "customer_email = \"\"\"\n",
    "Hi,\n",
    "\n",
    "I purchased a Dyson Supersonic yesterday. I was wondering when it will be delivered?\n",
    "\n",
    "Thanks,\n",
    "Keunbae\n",
    "\"\"\"\n",
    "\n",
    "delivery_status = \"\"\"\n",
    "Date: 2023 June 29\t8:44 pm\t\n",
    "Status: Item processed\n",
    "Location: Stoney Creek,ON\n",
    "\n",
    "Date: 2023 June 29 1:52 pm\t\n",
    "Status: Item accepted at the Post Office\n",
    "Location: Burlington,ON\n",
    "\n",
    "Date: 2023 June 30\t3:36 pm\t\n",
    "Status: Delivered\n",
    "Location: Hamilton,ON\n",
    "\n",
    "Date: 2023 June 30 3:34 pm\t\n",
    "Status: Notice card left indicating where and when to pick up item\n",
    "Location: Hamilton,ON\n",
    "\"\"\"\n",
    "\n",
    "context = [ {'role':'system', 'content':f\"\"\"\n",
    "You are a customer service AI assistant.\n",
    "Your task is to write an email reply to a valued customer.\n",
    "Given the customer email delimited by ```, \n",
    "Generate a reply for the customer.\n",
    "First, I'm going to show you some examples of how I have responded to emails in the past.\n",
    "Reply 1: {reply1}\n",
    "Reply 2: {reply2}\n",
    "Reply 3: {reply3}\n",
    "Delivery: {delivery_status}\n",
    "Here is the customer email: ```{customer_email}```\n",
    "\"\"\"} ] \n"
   ]
  },
  {
   "cell_type": "code",
   "execution_count": 17,
   "id": "6d32fc73",
   "metadata": {},
   "outputs": [
    {
     "name": "stdout",
     "output_type": "stream",
     "text": [
      "Based on your example email, here are the key points about your email style:\n",
      "\n",
      "1. The tone of your emails is polite and concise.\n",
      "2. Your style is direct, with a clear and specific request or question.\n",
      "3. You provide relevant details regarding your purchase but keep the email brief.\n",
      "4. You appreciate prompt and accurate information.\n",
      "5. You sign off with a simple \"Thanks.\"\n",
      "\n",
      "Overall, your emails are professional, focused, and to the point, demonstrating efficient communication.\n"
     ]
    }
   ],
   "source": [
    "\n",
    "context.append(\n",
    "{'role':'user', 'content':'Summarize my email style.  1. The tone, style and voice of my emails. 2. Any specific or important points you have gleaned from my example emails.'},    \n",
    ")\n",
    "\n",
    "response = get_completion_from_messages(context, temperature=1)\n",
    "print(response)\n"
   ]
  },
  {
   "cell_type": "code",
   "execution_count": 18,
   "id": "ecfe801c",
   "metadata": {},
   "outputs": [
    {
     "name": "stdout",
     "output_type": "stream",
     "text": [
      "Dear Keunbae,\n",
      "\n",
      "Thank you for reaching out to us regarding your recent purchase of the Dyson Supersonic. We understand that you are eager to know the delivery status of your order.\n",
      "\n",
      "Based on the delivery updates, here is the status of your order:\n",
      "\n",
      "Date: 2023 June 29 8:44 pm\n",
      "Status: Item processed\n",
      "Location: Stoney Creek, ON\n",
      "\n",
      "Date: 2023 June 29 1:52 pm\n",
      "Status: Item accepted at the Post Office\n",
      "Location: Burlington, ON\n",
      "\n",
      "Date: 2023 June 30 3:36 pm\n",
      "Status: Delivered\n",
      "Location: Hamilton, ON\n",
      "\n",
      "Date: 2023 June 30 3:34 pm\n",
      "Status: Notice card left indicating where and when to pick up item\n",
      "Location: Hamilton, ON\n",
      "\n",
      "The latest update shows that your Dyson Supersonic was delivered to the designated location in Hamilton on June 30 at 3:36 pm. However, prior to that, a notice card was left to indicate where and when you can pick up the item.\n",
      "\n",
      "We hope this information clarifies the current whereabouts of your order. If you have any further questions or concerns, please don't hesitate to let us know.\n",
      "\n",
      "Thank you for your patience and understanding.\n",
      "\n",
      "Best Regards,\n",
      "Customer Service\n"
     ]
    }
   ],
   "source": [
    "\n",
    "context.append(\n",
    "{'role':'system', 'content':f\"\"\"Here is the delivery status of the order:\n",
    "{delivery_status}\n",
    "\"\"\"}\n",
    ")\n",
    "\n",
    "context.append(\n",
    "{'role':'user', 'content':'Write a reply based on the delivery status in my style, as you learned from the examples.'},    \n",
    ")\n",
    "\n",
    "response = get_completion_from_messages(context, temperature=1)\n",
    "print(response)\n"
   ]
  }
 ],
 "metadata": {
  "kernelspec": {
   "display_name": "Python 3 (ipykernel)",
   "language": "python",
   "name": "python3"
  },
  "language_info": {
   "codemirror_mode": {
    "name": "ipython",
    "version": 3
   },
   "file_extension": ".py",
   "mimetype": "text/x-python",
   "name": "python",
   "nbconvert_exporter": "python",
   "pygments_lexer": "ipython3",
   "version": "3.11.4"
  }
 },
 "nbformat": 4,
 "nbformat_minor": 5
}
